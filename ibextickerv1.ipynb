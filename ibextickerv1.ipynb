{
  "nbformat": 4,
  "nbformat_minor": 0,
  "metadata": {
    "colab": {
      "provenance": [],
      "collapsed_sections": []
    },
    "kernelspec": {
      "name": "python3",
      "display_name": "Python 3"
    },
    "language_info": {
      "name": "python"
    }
  },
  "cells": [
    {
      "cell_type": "code",
      "execution_count": 4,
      "metadata": {
        "colab": {
          "base_uri": "https://localhost:8080/"
        },
        "id": "gxm5O8XPZbBc",
        "outputId": "0da19047-fbfa-490c-ce28-af33b03bfa69"
      },
      "outputs": [
        {
          "output_type": "stream",
          "name": "stdout",
          "text": [
            "Looking in indexes: https://pypi.org/simple, https://us-python.pkg.dev/colab-wheels/public/simple/\n",
            "Collecting yfinance\n",
            "  Downloading yfinance-0.1.75-py2.py3-none-any.whl (28 kB)\n",
            "Requirement already satisfied: lxml>=4.5.1 in /usr/local/lib/python3.7/dist-packages (from yfinance) (4.9.1)\n",
            "Requirement already satisfied: multitasking>=0.0.7 in /usr/local/lib/python3.7/dist-packages (from yfinance) (0.0.11)\n",
            "Requirement already satisfied: appdirs>=1.4.4 in /usr/local/lib/python3.7/dist-packages (from yfinance) (1.4.4)\n",
            "Requirement already satisfied: pandas>=0.24.0 in /usr/local/lib/python3.7/dist-packages (from yfinance) (1.3.5)\n",
            "Requirement already satisfied: numpy>=1.15 in /usr/local/lib/python3.7/dist-packages (from yfinance) (1.21.6)\n",
            "Collecting requests>=2.26\n",
            "  Downloading requests-2.28.1-py3-none-any.whl (62 kB)\n",
            "\u001b[K     |████████████████████████████████| 62 kB 1.3 MB/s \n",
            "\u001b[?25hRequirement already satisfied: pytz>=2017.3 in /usr/local/lib/python3.7/dist-packages (from pandas>=0.24.0->yfinance) (2022.4)\n",
            "Requirement already satisfied: python-dateutil>=2.7.3 in /usr/local/lib/python3.7/dist-packages (from pandas>=0.24.0->yfinance) (2.8.2)\n",
            "Requirement already satisfied: six>=1.5 in /usr/local/lib/python3.7/dist-packages (from python-dateutil>=2.7.3->pandas>=0.24.0->yfinance) (1.15.0)\n",
            "Requirement already satisfied: idna<4,>=2.5 in /usr/local/lib/python3.7/dist-packages (from requests>=2.26->yfinance) (2.10)\n",
            "Requirement already satisfied: certifi>=2017.4.17 in /usr/local/lib/python3.7/dist-packages (from requests>=2.26->yfinance) (2022.9.24)\n",
            "Requirement already satisfied: charset-normalizer<3,>=2 in /usr/local/lib/python3.7/dist-packages (from requests>=2.26->yfinance) (2.1.1)\n",
            "Requirement already satisfied: urllib3<1.27,>=1.21.1 in /usr/local/lib/python3.7/dist-packages (from requests>=2.26->yfinance) (1.24.3)\n",
            "Installing collected packages: requests, yfinance\n",
            "  Attempting uninstall: requests\n",
            "    Found existing installation: requests 2.23.0\n",
            "    Uninstalling requests-2.23.0:\n",
            "      Successfully uninstalled requests-2.23.0\n",
            "Successfully installed requests-2.28.1 yfinance-0.1.75\n"
          ]
        }
      ],
      "source": [
        "!pip install yfinance"
      ]
    },
    {
      "cell_type": "code",
      "source": [
        "# Import the necessary modules\n",
        "import pandas as pd\n",
        "import yfinance as yf\n",
        "\n",
        "# Get the current IBEX components tickers list\n",
        "ibex_assets = pd.read_html('https://es.wikipedia.org/wiki/IBEX_35')[2]\n",
        "assets = (ibex_assets.Ticker + '.MC').tolist()\n",
        "print(assets)\n"
      ],
      "metadata": {
        "colab": {
          "base_uri": "https://localhost:8080/"
        },
        "id": "EFF5PnjCZlB9",
        "outputId": "81b4e889-1f00-424b-8440-df8a107b0db8"
      },
      "execution_count": 6,
      "outputs": [
        {
          "output_type": "stream",
          "name": "stdout",
          "text": [
            "['ANA.MC', 'ACX.MC', 'ACS.MC', 'AENA.MC', 'ALM.MC', 'AMS.MC', 'MTS.MC', 'SAB.MC', 'SAN.MC', 'BKT.MC', 'BBVA.MC', 'CABK.MC', 'CLNX.MC', 'CIE.MC', 'ENG.MC', 'ELE.MC', 'FER.MC', 'FDR.MC', 'GRF.MC', 'IAG.MC', 'IBE.MC', 'ITX.MC', 'IDR.MC', 'COL.MC', 'MAP.MC', 'MEL.MC', 'MRL.MC', 'NTGY.MC', 'PHM.MC', 'RED.MC', 'REP.MC', 'ROVI.MC', 'SGRE.MC', 'SLR.MC', 'TEF.MC']\n"
          ]
        }
      ]
    },
    {
      "cell_type": "code",
      "source": [
        "# Dowload historical data to a multi-index dataframe\n",
        "data = yf.download(assets, start='2008-01-01', as_panel=False)"
      ],
      "metadata": {
        "colab": {
          "base_uri": "https://localhost:8080/"
        },
        "id": "63Uxz0KYaOd6",
        "outputId": "cf831a86-a0b9-4410-f410-892791fb07ae"
      },
      "execution_count": 7,
      "outputs": [
        {
          "output_type": "stream",
          "name": "stdout",
          "text": [
            "[*********************100%***********************]  35 of 35 completed\n"
          ]
        }
      ]
    },
    {
      "cell_type": "code",
      "source": [
        "ibex_assets.Empresa"
      ],
      "metadata": {
        "colab": {
          "base_uri": "https://localhost:8080/"
        },
        "id": "_lZtAQz5anqh",
        "outputId": "9298c457-317d-4de4-d26f-19f400436610"
      },
      "execution_count": 10,
      "outputs": [
        {
          "output_type": "execute_result",
          "data": {
            "text/plain": [
              "0                              Acciona\n",
              "1                             Acerinox\n",
              "2                            Grupo ACS\n",
              "3                                 Aena\n",
              "4                             Almirall\n",
              "5                     Amadeus IT Group\n",
              "6                        ArcelorMittal\n",
              "7                       Banco Sabadell\n",
              "8                      Banco Santander\n",
              "9                            Bankinter\n",
              "10                                BBVA\n",
              "11                           CaixaBank\n",
              "12                     Cellnex Telecom\n",
              "13                      CIE Automotive\n",
              "14                              Enagás\n",
              "15                              Endesa\n",
              "16                           Ferrovial\n",
              "17                             Fluidra\n",
              "18                             Grifols\n",
              "19                                 IAG\n",
              "20                           Iberdrola\n",
              "21                             Inditex\n",
              "22                      Indra Sistemas\n",
              "23               Inmobiliaria Colonial\n",
              "24                              Mapfre\n",
              "25          Meliá Hotels International\n",
              "26                   Merlin Properties\n",
              "27                             Naturgy\n",
              "28                           PharmaMar\n",
              "29           Red Eléctrica Corporación\n",
              "30                              Repsol\n",
              "31                                Rovi\n",
              "32     Siemens Gamesa Renewable Energy\n",
              "33    Solaria Energía y Medio Ambiente\n",
              "34                          Telefónica\n",
              "Name: Empresa, dtype: object"
            ]
          },
          "metadata": {},
          "execution_count": 10
        }
      ]
    },
    {
      "cell_type": "code",
      "source": [
        "print(data)"
      ],
      "metadata": {
        "colab": {
          "base_uri": "https://localhost:8080/"
        },
        "id": "IwL_jpaHaRqx",
        "outputId": "6be6b286-1106-4bfe-9275-64c6c3d19ce8"
      },
      "execution_count": 8,
      "outputs": [
        {
          "output_type": "stream",
          "name": "stdout",
          "text": [
            "                           Adj Close                                   \\\n",
            "                              ACS.MC    ACX.MC     AENA.MC     ALM.MC   \n",
            "Date                                                                    \n",
            "2008-01-02 00:00:00+01:00  16.451727  8.074011         NaN  10.779522   \n",
            "2008-01-03 00:00:00+01:00  16.020954  7.972841         NaN  10.478097   \n",
            "2008-01-04 00:00:00+01:00  15.179899  7.875911         NaN  10.011608   \n",
            "2008-01-07 00:00:00+01:00  14.835276  7.662655         NaN   9.774772   \n",
            "2008-01-08 00:00:00+01:00  15.093748  7.822595         NaN   9.868072   \n",
            "...                              ...       ...         ...        ...   \n",
            "2022-10-03 00:00:00+02:00  23.049999  8.380000  107.000000   9.995000   \n",
            "2022-10-04 00:00:00+02:00  23.690001  8.634000  110.150002  10.300000   \n",
            "2022-10-05 00:00:00+02:00  23.410000  8.412000  106.650002   9.945000   \n",
            "2022-10-06 00:00:00+02:00  23.030001  8.132000  106.000000  10.020000   \n",
            "2022-10-07 00:00:00+02:00  23.100000  8.076000  106.250000   9.945000   \n",
            "\n",
            "                                                                      \\\n",
            "                              AMS.MC      ANA.MC   BBVA.MC    BKT.MC   \n",
            "Date                                                                   \n",
            "2008-01-02 00:00:00+01:00        NaN  118.775024  7.434635  4.492155   \n",
            "2008-01-03 00:00:00+01:00        NaN  119.911865  7.371860  4.370063   \n",
            "2008-01-04 00:00:00+01:00        NaN  115.847519  7.219400  4.179750   \n",
            "2008-01-07 00:00:00+01:00        NaN  114.540138  7.250787  3.989360   \n",
            "2008-01-08 00:00:00+01:00        NaN  119.087646  7.111781  3.902635   \n",
            "...                              ...         ...       ...       ...   \n",
            "2022-10-03 00:00:00+02:00  47.450001  183.800003  4.565425  5.828000   \n",
            "2022-10-04 00:00:00+02:00  49.610001  182.000000  4.779437  6.036000   \n",
            "2022-10-05 00:00:00+02:00  49.310001  181.899994  4.699488  5.890000   \n",
            "2022-10-06 00:00:00+02:00  49.779999  181.500000  4.679500  5.730000   \n",
            "2022-10-07 00:00:00+02:00  49.700001  179.399994       NaN  5.886000   \n",
            "\n",
            "                                                ...     Volume            \\\n",
            "                            CABK.MC     CIE.MC  ...    NTGY.MC    PHM.MC   \n",
            "Date                                            ...                        \n",
            "2008-01-02 00:00:00+01:00  2.420710   4.720461  ...   888723.0  118061.0   \n",
            "2008-01-03 00:00:00+01:00  2.374157   4.752970  ...  1708698.0   88438.0   \n",
            "2008-01-04 00:00:00+01:00  2.374157   4.525400  ...  5944283.0  119197.0   \n",
            "2008-01-07 00:00:00+01:00  2.304330   4.336842  ...  1101285.0  117101.0   \n",
            "2008-01-08 00:00:00+01:00  2.327604   4.323838  ...  1307534.0  149907.0   \n",
            "...                             ...        ...  ...        ...       ...   \n",
            "2022-10-03 00:00:00+02:00  3.302000  21.860001  ...   310575.0   49746.0   \n",
            "2022-10-04 00:00:00+02:00  3.443000  22.900000  ...   911389.0   49089.0   \n",
            "2022-10-05 00:00:00+02:00  3.421000  22.260000  ...   282458.0   34914.0   \n",
            "2022-10-06 00:00:00+02:00  3.377000  22.580000  ...   387534.0   25346.0   \n",
            "2022-10-07 00:00:00+02:00  3.405000  22.700001  ...    17960.0    2430.0   \n",
            "\n",
            "                                                                        \\\n",
            "                              RED.MC      REP.MC   ROVI.MC      SAB.MC   \n",
            "Date                                                                     \n",
            "2008-01-02 00:00:00+01:00  2381252.0  29825160.0  308698.0  13017776.0   \n",
            "2008-01-03 00:00:00+01:00  6712612.0  31820020.0  209218.0  12383319.0   \n",
            "2008-01-04 00:00:00+01:00  4837656.0  20609232.0  130748.0  13784865.0   \n",
            "2008-01-07 00:00:00+01:00  4937084.0  14584710.0   37638.0  13676398.0   \n",
            "2008-01-08 00:00:00+01:00  5271768.0  18408430.0  112921.0  15511040.0   \n",
            "...                              ...         ...       ...         ...   \n",
            "2022-10-03 00:00:00+02:00  1016783.0   4660644.0   75592.0  23188051.0   \n",
            "2022-10-04 00:00:00+02:00  1147569.0   6618752.0  126266.0  30079159.0   \n",
            "2022-10-05 00:00:00+02:00   831633.0   5219275.0   55330.0  15964327.0   \n",
            "2022-10-06 00:00:00+02:00   817097.0   4748670.0   90831.0  17738889.0   \n",
            "2022-10-07 00:00:00+02:00    52157.0    375975.0    9331.0   2763048.0   \n",
            "\n",
            "                                                                          \n",
            "                                SAN.MC    SGRE.MC     SLR.MC      TEF.MC  \n",
            "Date                                                                      \n",
            "2008-01-02 00:00:00+01:00  108519235.0  3965446.0   540548.0  19583511.0  \n",
            "2008-01-03 00:00:00+01:00  118144862.0  2291276.0   867773.0  45179757.0  \n",
            "2008-01-04 00:00:00+01:00  104914768.0  2003183.0  2009130.0  34133635.0  \n",
            "2008-01-07 00:00:00+01:00   75125214.0  2945303.0   934976.0  39385499.0  \n",
            "2008-01-08 00:00:00+01:00   86713045.0  2818734.0   737608.0  60291597.0  \n",
            "...                                ...        ...        ...         ...  \n",
            "2022-10-03 00:00:00+02:00   35129533.0  1230879.0   538273.0  13398848.0  \n",
            "2022-10-04 00:00:00+02:00   59293931.0  1357974.0   656764.0  12728267.0  \n",
            "2022-10-05 00:00:00+02:00   36283329.0   895926.0   541545.0  14368909.0  \n",
            "2022-10-06 00:00:00+02:00   18776672.0  1406615.0   593313.0   9328576.0  \n",
            "2022-10-07 00:00:00+02:00    1918778.0   105620.0    73023.0    586043.0  \n",
            "\n",
            "[3784 rows x 210 columns]\n"
          ]
        }
      ]
    },
    {
      "cell_type": "code",
      "source": [
        "print(data.columns)"
      ],
      "metadata": {
        "colab": {
          "base_uri": "https://localhost:8080/"
        },
        "id": "u6JXztZKaYEw",
        "outputId": "723b82f0-fa0f-4c21-cafc-fc7447a2ef84"
      },
      "execution_count": 9,
      "outputs": [
        {
          "output_type": "stream",
          "name": "stdout",
          "text": [
            "MultiIndex([('Adj Close',  'ACS.MC'),\n",
            "            ('Adj Close',  'ACX.MC'),\n",
            "            ('Adj Close', 'AENA.MC'),\n",
            "            ('Adj Close',  'ALM.MC'),\n",
            "            ('Adj Close',  'AMS.MC'),\n",
            "            ('Adj Close',  'ANA.MC'),\n",
            "            ('Adj Close', 'BBVA.MC'),\n",
            "            ('Adj Close',  'BKT.MC'),\n",
            "            ('Adj Close', 'CABK.MC'),\n",
            "            ('Adj Close',  'CIE.MC'),\n",
            "            ...\n",
            "            (   'Volume', 'NTGY.MC'),\n",
            "            (   'Volume',  'PHM.MC'),\n",
            "            (   'Volume',  'RED.MC'),\n",
            "            (   'Volume',  'REP.MC'),\n",
            "            (   'Volume', 'ROVI.MC'),\n",
            "            (   'Volume',  'SAB.MC'),\n",
            "            (   'Volume',  'SAN.MC'),\n",
            "            (   'Volume', 'SGRE.MC'),\n",
            "            (   'Volume',  'SLR.MC'),\n",
            "            (   'Volume',  'TEF.MC')],\n",
            "           length=210)\n"
          ]
        }
      ]
    }
  ]
}